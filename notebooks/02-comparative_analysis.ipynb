{
 "cells": [
  {
   "cell_type": "code",
   "execution_count": 1,
   "id": "fb5ebedd-11aa-413e-8574-7c04edf7c609",
   "metadata": {},
   "outputs": [],
   "source": [
    "from IPython.display import display\n",
    "import joblib\n",
    "import numpy as np\n",
    "import pandas as pd\n",
    "\n",
    "from sklearn.pipeline import Pipeline\n",
    "from sklearn.impute import SimpleImputer\n",
    "from sklearn.preprocessing import SatandardScaler, OneHotEncoder\n",
    "from sklearn.compose import ColumnTransformer\n",
    "\n",
    "from sklearn.model_selection import ShuffleSplit, GridSearchCV, KFold, cross_validate\n",
    "from sklearn.neighbors import KNeighborsRegressor\n",
    "from sklearn.tree import DecisionTreeRegressor\n",
    "from sklearn.ensemble import RandomForestRegressor\n",
    "from sklearn.metrics import make_scorer, mean_squared_error, mean_absolute_error, r2_score"
   ]
  },
  {
   "cell_type": "code",
   "execution_count": 2,
   "id": "0b32569e-73b6-48f5-af61-842d4f289dd3",
   "metadata": {},
   "outputs": [],
   "source": [
    "import warnings\n",
    "warnings.filterwarnings('ignore', category=UserWarning, module='sklearn.preprocessing._encoders')"
   ]
  },
  {
   "cell_type": "markdown",
   "id": "40915477-5883-4cf4-904c-5a1d60d2df70",
   "metadata": {},
   "source": [
    "## 1. Obtenção de dados"
   ]
  },
  {
   "cell_type": "code",
   "execution_count": 3,
   "id": "20dd3aab-4dbe-4bba-889d-50146a02709a",
   "metadata": {},
   "outputs": [],
   "source": [
    "df = pd.read_csv('../data/raw/wines_SPA.csv')\n",
    "df_dict = pd.read_csv('../data/external/dict.csv')"
   ]
  },
  {
   "cell_type": "code",
   "execution_count": 4,
   "id": "fd2a9eb0-ef31-4f2d-abd9-9e173e36da32",
   "metadata": {},
   "outputs": [
    {
     "data": {
      "text/html": [
       "<div>\n",
       "<style scoped>\n",
       "    .dataframe tbody tr th:only-of-type {\n",
       "        vertical-align: middle;\n",
       "    }\n",
       "\n",
       "    .dataframe tbody tr th {\n",
       "        vertical-align: top;\n",
       "    }\n",
       "\n",
       "    .dataframe thead th {\n",
       "        text-align: right;\n",
       "    }\n",
       "</style>\n",
       "<table border=\"1\" class=\"dataframe\">\n",
       "  <thead>\n",
       "    <tr style=\"text-align: right;\">\n",
       "      <th></th>\n",
       "      <th>variavel</th>\n",
       "      <th>descricao</th>\n",
       "      <th>tipo</th>\n",
       "      <th>subtipo</th>\n",
       "    </tr>\n",
       "  </thead>\n",
       "  <tbody>\n",
       "    <tr>\n",
       "      <th>0</th>\n",
       "      <td>winery</td>\n",
       "      <td>Vinícola: local onde o vinho foi produzido</td>\n",
       "      <td>qualitativa</td>\n",
       "      <td>nominal</td>\n",
       "    </tr>\n",
       "    <tr>\n",
       "      <th>1</th>\n",
       "      <td>wine</td>\n",
       "      <td>vinho</td>\n",
       "      <td>qualitativa</td>\n",
       "      <td>nominal</td>\n",
       "    </tr>\n",
       "    <tr>\n",
       "      <th>2</th>\n",
       "      <td>year</td>\n",
       "      <td>ano</td>\n",
       "      <td>quantitativa</td>\n",
       "      <td>discreta</td>\n",
       "    </tr>\n",
       "    <tr>\n",
       "      <th>3</th>\n",
       "      <td>rating</td>\n",
       "      <td>avaliação: de 4.2 a 4.9</td>\n",
       "      <td>quantitativa</td>\n",
       "      <td>discreta</td>\n",
       "    </tr>\n",
       "    <tr>\n",
       "      <th>4</th>\n",
       "      <td>num_reviews</td>\n",
       "      <td>número de avaliações</td>\n",
       "      <td>quantitativa</td>\n",
       "      <td>discreta</td>\n",
       "    </tr>\n",
       "    <tr>\n",
       "      <th>5</th>\n",
       "      <td>country</td>\n",
       "      <td>país de origem</td>\n",
       "      <td>qualitativa</td>\n",
       "      <td>nominal</td>\n",
       "    </tr>\n",
       "    <tr>\n",
       "      <th>6</th>\n",
       "      <td>region</td>\n",
       "      <td>região do vinho</td>\n",
       "      <td>qualitativa</td>\n",
       "      <td>nominal</td>\n",
       "    </tr>\n",
       "    <tr>\n",
       "      <th>7</th>\n",
       "      <td>price</td>\n",
       "      <td>preço em euros</td>\n",
       "      <td>quantitativa</td>\n",
       "      <td>continua</td>\n",
       "    </tr>\n",
       "    <tr>\n",
       "      <th>8</th>\n",
       "      <td>type</td>\n",
       "      <td>tipo do vinho</td>\n",
       "      <td>qualitativa</td>\n",
       "      <td>nominal</td>\n",
       "    </tr>\n",
       "    <tr>\n",
       "      <th>9</th>\n",
       "      <td>body</td>\n",
       "      <td>valor do \"corpo\" do vinho: de 2 a 5</td>\n",
       "      <td>quantitativa</td>\n",
       "      <td>discreta</td>\n",
       "    </tr>\n",
       "    <tr>\n",
       "      <th>10</th>\n",
       "      <td>acidity</td>\n",
       "      <td>acidez: de 1 a 3</td>\n",
       "      <td>quantitativa</td>\n",
       "      <td>discreta</td>\n",
       "    </tr>\n",
       "  </tbody>\n",
       "</table>\n",
       "</div>"
      ],
      "text/plain": [
       "       variavel                                   descricao          tipo  \\\n",
       "0        winery  Vinícola: local onde o vinho foi produzido   qualitativa   \n",
       "1          wine                                       vinho   qualitativa   \n",
       "2          year                                         ano  quantitativa   \n",
       "3        rating                     avaliação: de 4.2 a 4.9  quantitativa   \n",
       "4   num_reviews                        número de avaliações  quantitativa   \n",
       "5       country                              país de origem   qualitativa   \n",
       "6        region                             região do vinho   qualitativa   \n",
       "7         price                              preço em euros  quantitativa   \n",
       "8          type                               tipo do vinho   qualitativa   \n",
       "9          body         valor do \"corpo\" do vinho: de 2 a 5  quantitativa   \n",
       "10      acidity                            acidez: de 1 a 3  quantitativa   \n",
       "\n",
       "     subtipo  \n",
       "0    nominal  \n",
       "1    nominal  \n",
       "2   discreta  \n",
       "3   discreta  \n",
       "4   discreta  \n",
       "5    nominal  \n",
       "6    nominal  \n",
       "7   continua  \n",
       "8    nominal  \n",
       "9   discreta  \n",
       "10  discreta  "
      ]
     },
     "execution_count": 4,
     "metadata": {},
     "output_type": "execute_result"
    }
   ],
   "source": [
    "df_dict"
   ]
  },
  {
   "cell_type": "code",
   "execution_count": 5,
   "id": "cb885c61-4340-4b4a-ae45-6104e225f3d9",
   "metadata": {},
   "outputs": [],
   "source": [
    "# a coluna year está como string, mudo para numérico\n",
    "df['year'] = df['year'].replace('N.V.', -1)\n",
    "df['year'] = df['year'].replace(np.nan, -1)\n",
    "df['year'] = df['year'].astype(int)\n",
    "df['year'] = df['year'].replace(-1, np.nan)"
   ]
  },
  {
   "cell_type": "markdown",
   "id": "46897768-f27e-409c-abd1-36755d6c5149",
   "metadata": {},
   "source": [
    "## 2. Preparação de dados"
   ]
  },
  {
   "cell_type": "code",
   "execution_count": 6,
   "id": "6b746d17-4b77-418e-8f64-49fdd4ca8f8f",
   "metadata": {},
   "outputs": [],
   "source": [
    "target_column = 'price'\n",
    "nominal_columns = (\n",
    "    df_dict\n",
    "    .query(\"subtipo == 'nominal'\")\n",
    "    .variavel\n",
    "    .to_list()\n",
    ")\n",
    "discrete_columns = (\n",
    "    df_dict\n",
    "    .query(\"subtipo == 'discreta'\")\n",
    "    .variavel\n",
    "    .to_list()\n",
    ")\n",
    "\n",
    "X = df.drop(columns=[target_column], axis=1)\n",
    "y = df[target_column]"
   ]
  },
  {
   "cell_type": "code",
   "execution_count": 7,
   "id": "5e0ed3e2-ee4a-487e-9401-e82cc3e3f637",
   "metadata": {},
   "outputs": [],
   "source": [
    "nominal_preprocessor = Pipeline([\n",
    "    ('missing', SimpleImputer(strategy='most_frequent')), # tratamento de dados faltantes\n",
    "    ('encoding', OneHotEncoder(sparse_output=False, drop='first', handle_unknown='ignore')), # codificação de variáveis\n",
    "    ('normalization', StandardScaler()) # normalização de dados\n",
    "])\n",
    "discrete_preprocessor = Pipeline([\n",
    "    ('missing', SimpleImputer(strategy='median')), # tratamento de dados faltantes\n",
    "    ('normalization', StandardScaler()) # normalização de dados\n",
    "])\n",
    "preprocessor = ColumnTransformer([\n",
    "    ('nominal', nominal_preprocessor, nominal_columns),\n",
    "    ('discrete', discrete_preprocessor, discrete_columns)\n",
    "])"
   ]
  },
  {
   "cell_type": "markdown",
   "id": "01465bd1-52d8-4767-99f4-acbc4fe83150",
   "metadata": {},
   "source": [
    "## 3. Seleção de modelos"
   ]
  },
  {
   "cell_type": "code",
   "execution_count": 8,
   "id": "0845b7b6-9bdd-4664-b80e-80ab6464667e",
   "metadata": {},
   "outputs": [],
   "source": [
    "# experiment settings\n",
    "n_splits_comparative_analysis = 10\n",
    "n_folds_grid_search = 5\n",
    "test_size = .2\n",
    "random_state = 42\n",
    "max_iter = 1000\n",
    "scoring = 'neg_mean_squared_error'\n",
    "metrics = {\n",
    "    'neg_mean_squared_error': make_scorer(mean_squared_error, greater_is_better=False),\n",
    "    'neg_mean_absolute_error': make_scorer(mean_absolute_error, greater_is_better=False),\n",
    "    'r2': make_scorer(r2_score)\n",
    "}\n",
    "# model settings\n",
    "models = [\n",
    "    ('K-Nearest Neighbors', KNeighborsRegressor(), {\"n_neighbors\": range(3, 20, 2), 'weights': ['distance', 'uniform']}),\n",
    "    ('Decision Tree',  DecisionTreeRegressor(random_state=random_state), {'criterion':['squared_error', 'friedman_mse'],'max_depth': [3, 6, 8]}),\n",
    "    ('Random Forest',  RandomForestRegressor(random_state=random_state), {'criterion':['squared_error', 'friedman_mse'],'max_depth': [3, 6, 8], 'n_estimators': [10, 20, 30]})\n",
    "]"
   ]
  },
  {
   "cell_type": "code",
   "execution_count": 9,
   "id": "9e1efbc2-7f8a-4b7b-a183-c1c0e0d6980f",
   "metadata": {},
   "outputs": [
    {
     "name": "stdout",
     "output_type": "stream",
     "text": [
      "running K-Nearest Neighbors...\n"
     ]
    },
    {
     "data": {
      "text/html": [
       "<div>\n",
       "<style scoped>\n",
       "    .dataframe tbody tr th:only-of-type {\n",
       "        vertical-align: middle;\n",
       "    }\n",
       "\n",
       "    .dataframe tbody tr th {\n",
       "        vertical-align: top;\n",
       "    }\n",
       "\n",
       "    .dataframe thead th {\n",
       "        text-align: right;\n",
       "    }\n",
       "</style>\n",
       "<table border=\"1\" class=\"dataframe\">\n",
       "  <thead>\n",
       "    <tr style=\"text-align: right;\">\n",
       "      <th></th>\n",
       "      <th>fit_time</th>\n",
       "      <th>score_time</th>\n",
       "      <th>test_neg_mean_squared_error</th>\n",
       "      <th>test_neg_mean_absolute_error</th>\n",
       "      <th>test_r2</th>\n",
       "      <th>model_name</th>\n",
       "    </tr>\n",
       "  </thead>\n",
       "  <tbody>\n",
       "    <tr>\n",
       "      <th>0</th>\n",
       "      <td>12.068237</td>\n",
       "      <td>0.221743</td>\n",
       "      <td>-6650.012096</td>\n",
       "      <td>-13.158093</td>\n",
       "      <td>0.757842</td>\n",
       "      <td>K-Nearest Neighbors</td>\n",
       "    </tr>\n",
       "  </tbody>\n",
       "</table>\n",
       "</div>"
      ],
      "text/plain": [
       "    fit_time  score_time  test_neg_mean_squared_error  \\\n",
       "0  12.068237    0.221743                 -6650.012096   \n",
       "\n",
       "   test_neg_mean_absolute_error   test_r2           model_name  \n",
       "0                    -13.158093  0.757842  K-Nearest Neighbors  "
      ]
     },
     "metadata": {},
     "output_type": "display_data"
    },
    {
     "name": "stdout",
     "output_type": "stream",
     "text": [
      "running Decision Tree...\n"
     ]
    },
    {
     "data": {
      "text/html": [
       "<div>\n",
       "<style scoped>\n",
       "    .dataframe tbody tr th:only-of-type {\n",
       "        vertical-align: middle;\n",
       "    }\n",
       "\n",
       "    .dataframe tbody tr th {\n",
       "        vertical-align: top;\n",
       "    }\n",
       "\n",
       "    .dataframe thead th {\n",
       "        text-align: right;\n",
       "    }\n",
       "</style>\n",
       "<table border=\"1\" class=\"dataframe\">\n",
       "  <thead>\n",
       "    <tr style=\"text-align: right;\">\n",
       "      <th></th>\n",
       "      <th>fit_time</th>\n",
       "      <th>score_time</th>\n",
       "      <th>test_neg_mean_squared_error</th>\n",
       "      <th>test_neg_mean_absolute_error</th>\n",
       "      <th>test_r2</th>\n",
       "      <th>model_name</th>\n",
       "    </tr>\n",
       "  </thead>\n",
       "  <tbody>\n",
       "    <tr>\n",
       "      <th>0</th>\n",
       "      <td>5.487456</td>\n",
       "      <td>0.031977</td>\n",
       "      <td>-11102.858147</td>\n",
       "      <td>-21.468672</td>\n",
       "      <td>0.569711</td>\n",
       "      <td>Decision Tree</td>\n",
       "    </tr>\n",
       "  </tbody>\n",
       "</table>\n",
       "</div>"
      ],
      "text/plain": [
       "   fit_time  score_time  test_neg_mean_squared_error  \\\n",
       "0  5.487456    0.031977                -11102.858147   \n",
       "\n",
       "   test_neg_mean_absolute_error   test_r2     model_name  \n",
       "0                    -21.468672  0.569711  Decision Tree  "
      ]
     },
     "metadata": {},
     "output_type": "display_data"
    },
    {
     "name": "stdout",
     "output_type": "stream",
     "text": [
      "running Random Forest...\n"
     ]
    },
    {
     "data": {
      "text/html": [
       "<div>\n",
       "<style scoped>\n",
       "    .dataframe tbody tr th:only-of-type {\n",
       "        vertical-align: middle;\n",
       "    }\n",
       "\n",
       "    .dataframe tbody tr th {\n",
       "        vertical-align: top;\n",
       "    }\n",
       "\n",
       "    .dataframe thead th {\n",
       "        text-align: right;\n",
       "    }\n",
       "</style>\n",
       "<table border=\"1\" class=\"dataframe\">\n",
       "  <thead>\n",
       "    <tr style=\"text-align: right;\">\n",
       "      <th></th>\n",
       "      <th>fit_time</th>\n",
       "      <th>score_time</th>\n",
       "      <th>test_neg_mean_squared_error</th>\n",
       "      <th>test_neg_mean_absolute_error</th>\n",
       "      <th>test_r2</th>\n",
       "      <th>model_name</th>\n",
       "    </tr>\n",
       "  </thead>\n",
       "  <tbody>\n",
       "    <tr>\n",
       "      <th>0</th>\n",
       "      <td>140.422097</td>\n",
       "      <td>0.05935</td>\n",
       "      <td>-8770.586976</td>\n",
       "      <td>-19.087787</td>\n",
       "      <td>0.670495</td>\n",
       "      <td>Random Forest</td>\n",
       "    </tr>\n",
       "  </tbody>\n",
       "</table>\n",
       "</div>"
      ],
      "text/plain": [
       "     fit_time  score_time  test_neg_mean_squared_error  \\\n",
       "0  140.422097     0.05935                 -8770.586976   \n",
       "\n",
       "   test_neg_mean_absolute_error   test_r2     model_name  \n",
       "0                    -19.087787  0.670495  Random Forest  "
      ]
     },
     "metadata": {},
     "output_type": "display_data"
    },
    {
     "data": {
      "text/html": [
       "<div>\n",
       "<style scoped>\n",
       "    .dataframe tbody tr th:only-of-type {\n",
       "        vertical-align: middle;\n",
       "    }\n",
       "\n",
       "    .dataframe tbody tr th {\n",
       "        vertical-align: top;\n",
       "    }\n",
       "\n",
       "    .dataframe thead th {\n",
       "        text-align: right;\n",
       "    }\n",
       "</style>\n",
       "<table border=\"1\" class=\"dataframe\">\n",
       "  <thead>\n",
       "    <tr style=\"text-align: right;\">\n",
       "      <th></th>\n",
       "      <th>fit_time</th>\n",
       "      <th>score_time</th>\n",
       "      <th>test_neg_mean_squared_error</th>\n",
       "      <th>test_neg_mean_absolute_error</th>\n",
       "      <th>test_r2</th>\n",
       "      <th>model_name</th>\n",
       "    </tr>\n",
       "  </thead>\n",
       "  <tbody>\n",
       "    <tr>\n",
       "      <th>0</th>\n",
       "      <td>12.068237</td>\n",
       "      <td>0.221743</td>\n",
       "      <td>-6650.012096</td>\n",
       "      <td>-13.158093</td>\n",
       "      <td>0.757842</td>\n",
       "      <td>K-Nearest Neighbors</td>\n",
       "    </tr>\n",
       "    <tr>\n",
       "      <th>1</th>\n",
       "      <td>5.487456</td>\n",
       "      <td>0.031977</td>\n",
       "      <td>-11102.858147</td>\n",
       "      <td>-21.468672</td>\n",
       "      <td>0.569711</td>\n",
       "      <td>Decision Tree</td>\n",
       "    </tr>\n",
       "    <tr>\n",
       "      <th>2</th>\n",
       "      <td>140.422097</td>\n",
       "      <td>0.059350</td>\n",
       "      <td>-8770.586976</td>\n",
       "      <td>-19.087787</td>\n",
       "      <td>0.670495</td>\n",
       "      <td>Random Forest</td>\n",
       "    </tr>\n",
       "  </tbody>\n",
       "</table>\n",
       "</div>"
      ],
      "text/plain": [
       "     fit_time  score_time  test_neg_mean_squared_error  \\\n",
       "0   12.068237    0.221743                 -6650.012096   \n",
       "1    5.487456    0.031977                -11102.858147   \n",
       "2  140.422097    0.059350                 -8770.586976   \n",
       "\n",
       "   test_neg_mean_absolute_error   test_r2           model_name  \n",
       "0                    -13.158093  0.757842  K-Nearest Neighbors  \n",
       "1                    -21.468672  0.569711        Decision Tree  \n",
       "2                    -19.087787  0.670495        Random Forest  "
      ]
     },
     "metadata": {},
     "output_type": "display_data"
    }
   ],
   "source": [
    "results = pd.DataFrame({})\n",
    "cross_validate_grid_search = KFold(n_splits=n_folds_grid_search)\n",
    "cross_validate_comparative_analysis = ShuffleSplit(n_splits=n_splits_comparative_analysis, test_size=test_size, random_state=random_state)\n",
    "for model_name, model_object, model_parameters in models:\n",
    "    print(f\"running {model_name}...\")\n",
    "    model_grid_search = GridSearchCV(\n",
    "        estimator=model_object,\n",
    "        param_grid=model_parameters,\n",
    "        scoring=scoring,\n",
    "        n_jobs=-1,\n",
    "        cv=cross_validate_grid_search\n",
    "    )\n",
    "    approach = Pipeline(steps=[\n",
    "        ('preprocessor', preprocessor),\n",
    "        ('model', model_grid_search)\n",
    "    ])\n",
    "    scores = cross_validate(\n",
    "        estimator=approach,\n",
    "        X=X,\n",
    "        y=y,\n",
    "        cv=cross_validate_comparative_analysis,\n",
    "        scoring=metrics\n",
    "    )\n",
    "    \n",
    "    scores_df = pd.DataFrame(scores).mean().to_frame().T\n",
    "    scores_df['model_name'] = model_name\n",
    "    display(scores_df)\n",
    "    \n",
    "    results = pd.concat([results, scores_df], ignore_index=True)\n",
    "    \n",
    "display(results)"
   ]
  },
  {
   "cell_type": "markdown",
   "id": "731cac1c-2aa9-463c-b785-59fe36c7fa5a",
   "metadata": {},
   "source": [
    "### 3.1 Resultados gerais"
   ]
  },
  {
   "cell_type": "code",
   "execution_count": 10,
   "id": "523a774b-4e77-43f8-babb-82cdf5b559eb",
   "metadata": {},
   "outputs": [
    {
     "data": {
      "text/html": [
       "<style type=\"text/css\">\n",
       "#T_3932b td {\n",
       "  text-align: center;\n",
       "}\n",
       "#T_3932b_row0_col0, #T_3932b_row1_col0, #T_3932b_row2_col1, #T_3932b_row3_col1, #T_3932b_row4_col1 {\n",
       "  color: white;\n",
       "  background-color: gray;\n",
       "  font-weight: bold;\n",
       "}\n",
       "</style>\n",
       "<table id=\"T_3932b\">\n",
       "  <thead>\n",
       "    <tr>\n",
       "      <th class=\"index_name level0\" >model_name</th>\n",
       "      <th id=\"T_3932b_level0_col0\" class=\"col_heading level0 col0\" >Decision Tree</th>\n",
       "      <th id=\"T_3932b_level0_col1\" class=\"col_heading level0 col1\" >K-Nearest Neighbors</th>\n",
       "      <th id=\"T_3932b_level0_col2\" class=\"col_heading level0 col2\" >Random Forest</th>\n",
       "    </tr>\n",
       "  </thead>\n",
       "  <tbody>\n",
       "    <tr>\n",
       "      <th id=\"T_3932b_level0_row0\" class=\"row_heading level0 row0\" >fit_time</th>\n",
       "      <td id=\"T_3932b_row0_col0\" class=\"data row0 col0\" >5.487456</td>\n",
       "      <td id=\"T_3932b_row0_col1\" class=\"data row0 col1\" >12.068237</td>\n",
       "      <td id=\"T_3932b_row0_col2\" class=\"data row0 col2\" >140.422097</td>\n",
       "    </tr>\n",
       "    <tr>\n",
       "      <th id=\"T_3932b_level0_row1\" class=\"row_heading level0 row1\" >score_time</th>\n",
       "      <td id=\"T_3932b_row1_col0\" class=\"data row1 col0\" >0.031977</td>\n",
       "      <td id=\"T_3932b_row1_col1\" class=\"data row1 col1\" >0.221743</td>\n",
       "      <td id=\"T_3932b_row1_col2\" class=\"data row1 col2\" >0.059350</td>\n",
       "    </tr>\n",
       "    <tr>\n",
       "      <th id=\"T_3932b_level0_row2\" class=\"row_heading level0 row2\" >test_neg_mean_squared_error</th>\n",
       "      <td id=\"T_3932b_row2_col0\" class=\"data row2 col0\" >-11102.858147</td>\n",
       "      <td id=\"T_3932b_row2_col1\" class=\"data row2 col1\" >-6650.012096</td>\n",
       "      <td id=\"T_3932b_row2_col2\" class=\"data row2 col2\" >-8770.586976</td>\n",
       "    </tr>\n",
       "    <tr>\n",
       "      <th id=\"T_3932b_level0_row3\" class=\"row_heading level0 row3\" >test_neg_mean_absolute_error</th>\n",
       "      <td id=\"T_3932b_row3_col0\" class=\"data row3 col0\" >-21.468672</td>\n",
       "      <td id=\"T_3932b_row3_col1\" class=\"data row3 col1\" >-13.158093</td>\n",
       "      <td id=\"T_3932b_row3_col2\" class=\"data row3 col2\" >-19.087787</td>\n",
       "    </tr>\n",
       "    <tr>\n",
       "      <th id=\"T_3932b_level0_row4\" class=\"row_heading level0 row4\" >test_r2</th>\n",
       "      <td id=\"T_3932b_row4_col0\" class=\"data row4 col0\" >0.569711</td>\n",
       "      <td id=\"T_3932b_row4_col1\" class=\"data row4 col1\" >0.757842</td>\n",
       "      <td id=\"T_3932b_row4_col2\" class=\"data row4 col2\" >0.670495</td>\n",
       "    </tr>\n",
       "  </tbody>\n",
       "</table>\n"
      ],
      "text/plain": [
       "<pandas.io.formats.style.Styler at 0x7fe1f9174a00>"
      ]
     },
     "metadata": {},
     "output_type": "display_data"
    }
   ],
   "source": [
    "def highlight_best(s, props=''):\n",
    "    if s.name.endswith('time'):\n",
    "        return np.where(s == np.nanmin(s.values), props, '')\n",
    "    return np.where(s == np.nanmax(s.values), props, '')\n",
    "\n",
    "display(\n",
    "    results\n",
    "    .groupby('model_name')\n",
    "    .mean()  \n",
    "    .T\n",
    "    .style\n",
    "    .apply(highlight_best, props='color:white;background-color:gray;font-weight: bold;', axis=1)\n",
    "    .set_table_styles([{'selector': 'td', 'props': 'text-align: center;'}])\n",
    ")"
   ]
  },
  {
   "cell_type": "markdown",
   "id": "07500f64-1d29-463b-84c2-b3e5fd183a38",
   "metadata": {},
   "source": [
    "### 3.2 Persistência do Modelo"
   ]
  },
  {
   "cell_type": "code",
   "execution_count": 11,
   "id": "98a4f9c8-1463-4c6b-bc90-3cc98a75c571",
   "metadata": {},
   "outputs": [
    {
     "name": "stdout",
     "output_type": "stream",
     "text": [
      "Hiper parâmetros do modelo: {'n_neighbors': 3, 'weights': 'distance'}\n"
     ]
    }
   ],
   "source": [
    "#Obtem o modelo e os parametros ganhadores\n",
    "model_name, model_object, model_parameters  = [foo for foo in models if foo[0] == \"K-Nearest Neighbors\"][0] \n",
    "\n",
    "\n",
    "model_grid_search = GridSearchCV(\n",
    "        estimator=model_object,\n",
    "        param_grid=model_parameters,\n",
    "        scoring=scoring,\n",
    "        n_jobs=-1,\n",
    "        cv=cross_validate_grid_search\n",
    "    )\n",
    "\n",
    "approach = Pipeline([\n",
    "    (\"preprocessor\", preprocessor),\n",
    "    (\"model\", model_grid_search)\n",
    "])\n",
    "\n",
    "approach.fit(X, y) #Seleciona o approach\n",
    "\n",
    "print(f\"Hiper parâmetros do modelo: {approach.steps[1][1].best_params_}\")"
   ]
  },
  {
   "cell_type": "code",
   "execution_count": 12,
   "id": "a4fbd0da-91cc-4a10-84a0-2e6d571cb4f9",
   "metadata": {},
   "outputs": [
    {
     "data": {
      "text/plain": [
       "['../models/model.joblib']"
      ]
     },
     "execution_count": 12,
     "metadata": {},
     "output_type": "execute_result"
    }
   ],
   "source": [
    "joblib.dump(approach, '../models/model.joblib') # Salva o modelo em disco"
   ]
  }
 ],
 "metadata": {
  "kernelspec": {
   "display_name": "Python 3 (ipykernel)",
   "language": "python",
   "name": "python3"
  },
  "language_info": {
   "codemirror_mode": {
    "name": "ipython",
    "version": 3
   },
   "file_extension": ".py",
   "mimetype": "text/x-python",
   "name": "python",
   "nbconvert_exporter": "python",
   "pygments_lexer": "ipython3",
   "version": "3.10.12"
  }
 },
 "nbformat": 4,
 "nbformat_minor": 5
}
